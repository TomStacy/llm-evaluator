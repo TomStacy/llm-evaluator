{
 "cells": [
  {
   "cell_type": "markdown",
   "id": "01c43f84",
   "metadata": {},
   "source": [
    "# LLM Evaluator - Example Notebook\n",
    "\n",
    "This is a starter notebook for the LLM Evaluator project."
   ]
  },
  {
   "cell_type": "code",
   "execution_count": 1,
   "id": "b21d9b20",
   "metadata": {},
   "outputs": [
    {
     "name": "stdout",
     "output_type": "stream",
     "text": [
      "Python version: 3.13.3 (tags/v3.13.3:6280bb5, Apr  8 2025, 14:47:33) [MSC v.1943 64 bit (AMD64)]\n"
     ]
    }
   ],
   "source": [
    "# Import necessary libraries\n",
    "import sys\n",
    "print(f\"Python version: {sys.version}\")"
   ]
  },
  {
   "cell_type": "code",
   "execution_count": 2,
   "id": "e600d172",
   "metadata": {},
   "outputs": [
    {
     "name": "stdout",
     "output_type": "stream",
     "text": [
      "LLM Evaluator is ready!\n"
     ]
    }
   ],
   "source": [
    "# Add your LLM evaluation code here\n",
    "print(\"LLM Evaluator is ready!\")"
   ]
  }
 ],
 "metadata": {
  "kernelspec": {
   "display_name": "llm-evaluator (3.13.3)",
   "language": "python",
   "name": "python3"
  },
  "language_info": {
   "codemirror_mode": {
    "name": "ipython",
    "version": 3
   },
   "file_extension": ".py",
   "mimetype": "text/x-python",
   "name": "python",
   "nbconvert_exporter": "python",
   "pygments_lexer": "ipython3",
   "version": "3.13.3"
  }
 },
 "nbformat": 4,
 "nbformat_minor": 5
}
